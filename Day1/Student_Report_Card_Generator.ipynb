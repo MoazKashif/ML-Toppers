{
  "nbformat": 4,
  "nbformat_minor": 0,
  "metadata": {
    "colab": {
      "provenance": []
    },
    "kernelspec": {
      "name": "python3",
      "display_name": "Python 3"
    },
    "language_info": {
      "name": "python"
    }
  },
  "cells": [
    {
      "cell_type": "code",
      "execution_count": 19,
      "metadata": {
        "colab": {
          "base_uri": "https://localhost:8080/"
        },
        "id": "Sr4SRC7Hr5jj",
        "outputId": "191bbb70-b6c1-4dab-a2b7-b28cece8aed7"
      },
      "outputs": [
        {
          "output_type": "stream",
          "name": "stdout",
          "text": [
            "Enter your name: Moaz\n",
            "Enter your age: 20\n",
            "Enter marks for English65\n",
            "Enter marks for Math75\n",
            "Enter marks for Urdu85\n",
            "Name : Moaz\n",
            "Age : 20\n",
            "Marks for English : 65\n",
            "Marks for Math : 75\n",
            "Marks for Urdu : 85\n",
            "Average marks : 75.0\n",
            "Grade : B\n",
            "Do you want to add 5 bonus marks to all subjects yes or noyes\n",
            "Updated Marks for English : 70\n",
            "Updated Marks for Math : 80\n",
            "Updated Marks for Urdu : 90\n",
            "\n",
            "Report card saved to Moaz_report_card.txt\n"
          ]
        }
      ],
      "source": [
        "#Student Report card Generator\n",
        "name = input(\"Enter your name: \")\n",
        "age = input(\"Enter your age: \")\n",
        "subj = {\"English\":\"\",\"Math\":\"\",\"Urdu\":\"\"}\n",
        "for i in subj:\n",
        "  display = f\"Enter marks for {i}\"\n",
        "  sub = input(display)\n",
        "  subj[i] = sub\n",
        "print(f\"Name : {name}\")\n",
        "print(f\"Age : {age}\")\n",
        "for i in subj:\n",
        "  print(f\"Marks for {i} : {subj[i]}\")\n",
        "#Function to calculate average:\n",
        "def average(subj):\n",
        "  total_sum = 0\n",
        "  for subject, marks in subj.items():\n",
        "    total_sum += int(marks)\n",
        "  return total_sum/len(subj)\n",
        "print(f\"Average marks : {average(subj)}\")\n",
        "#Grade determination:\n",
        "if average(subj) >= 80:\n",
        "  grade = \"Grade : A\"\n",
        "elif average(subj) >= 60 and average(subj) <=79:\n",
        "  grade = \"Grade : B\"\n",
        "elif average(subj) >= 40 and average(subj) <=59:\n",
        "  grade = \"Grade : C\"\n",
        "else:\n",
        "  grade = \"Grade : F\"\n",
        "print(grade)\n",
        "#Ask for Bonus\n",
        "Bonus = lambda: input(\"Do you want to add 5 bonus marks to all subjects yes or no\").lower()\n",
        "if Bonus() == \"yes\":\n",
        "  for i in subj:\n",
        "    subj[i] = int(subj[i]) + 5\n",
        "  for i in subj:\n",
        "    print(f\"Updated Marks for {i} : {subj[i]}\")\n",
        "else:\n",
        "  print(\"\\nNo bonus marks added.\")\n",
        "#Writing to File\n",
        "filename = f\"{name}_report_card.txt\"\n",
        "with open(filename, \"w\") as file:\n",
        "    file.write(\"--- Student Report Card ---\\n\")\n",
        "    file.write(f\"Name: {name}\\n\")\n",
        "    file.write(f\"Age: {age}\\n\")\n",
        "    for subject, marks in subj.items():\n",
        "        file.write(f\"{subject}: {marks}\\n\")\n",
        "    file.write(f\"Average Marks: {average(subj)}\\n\")\n",
        "    if average(subj) >= 80:\n",
        "     grade = \"Grade : A\"\n",
        "    elif average(subj) >= 60 and average(subj) <=79:\n",
        "     grade = \"Grade : B\"\n",
        "    elif average(subj) >= 40 and average(subj) <=59:\n",
        "     grade = \"Grade : C\"\n",
        "    else:\n",
        "     grade = \"Grade : F\"\n",
        "    if grade:\n",
        "      file.write(f\"{grade}\\n\")\n",
        "    file.write(\"--------------------------\\n\")\n",
        "print(f\"\\nReport card saved to {filename}\")"
      ]
    }
  ]
}